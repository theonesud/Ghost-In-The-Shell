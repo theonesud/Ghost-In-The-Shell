{
 "cells": [
  {
   "attachments": {},
   "cell_type": "markdown",
   "metadata": {},
   "source": [
    "# ReACT with human in the loop\n",
    "A business individual needs to do data analysis. They know the exact things they want to calculate but wont know how to use pandas for example.\n",
    "\n",
    "In this case a Langchain Agent (powered by a LLM) would be responsible for understanding the user's query, and then running predefined Chains (pandas operations / API calls) with human verification at the required steps. It might have to plan out a task list and manage it for complex usecases.\n",
    "\n",
    "- LLM = openai\n",
    "- Langchain Agents\n",
    "- Langchain Tools need to be defined for math, pandas\n",
    "\n",
    "Ref: https://python.langchain.com/docs/modules/agents/toolkits/pandas"
   ]
  },
  {
   "cell_type": "code",
   "execution_count": 1,
   "metadata": {},
   "outputs": [],
   "source": [
    "from langchain.agents import create_pandas_dataframe_agent\n",
    "from langchain.chat_models import ChatOpenAI\n",
    "from langchain.agents.agent_types import AgentType"
   ]
  },
  {
   "cell_type": "code",
   "execution_count": 5,
   "metadata": {},
   "outputs": [
    {
     "name": "stdout",
     "output_type": "stream",
     "text": [
      "Requirement already satisfied: pandas in /home/sud/miniconda3/envs/emb/lib/python3.11/site-packages (2.0.2)\n",
      "Collecting tabulate\n",
      "  Using cached tabulate-0.9.0-py3-none-any.whl (35 kB)\n",
      "Requirement already satisfied: python-dateutil>=2.8.2 in /home/sud/miniconda3/envs/emb/lib/python3.11/site-packages (from pandas) (2.8.2)\n",
      "Requirement already satisfied: pytz>=2020.1 in /home/sud/miniconda3/envs/emb/lib/python3.11/site-packages (from pandas) (2023.3)\n",
      "Requirement already satisfied: tzdata>=2022.1 in /home/sud/miniconda3/envs/emb/lib/python3.11/site-packages (from pandas) (2023.3)\n",
      "Requirement already satisfied: numpy>=1.21.0 in /home/sud/miniconda3/envs/emb/lib/python3.11/site-packages (from pandas) (1.25.0)\n",
      "Requirement already satisfied: six>=1.5 in /home/sud/miniconda3/envs/emb/lib/python3.11/site-packages (from python-dateutil>=2.8.2->pandas) (1.16.0)\n",
      "Installing collected packages: tabulate\n",
      "Successfully installed tabulate-0.9.0\n",
      "Note: you may need to restart the kernel to use updated packages.\n"
     ]
    }
   ],
   "source": [
    "%pip install pandas tabulate\n",
    "from langchain.llms import OpenAI\n",
    "import pandas as pd\n",
    "\n",
    "df = pd.read_csv(\"../src_docs/active cover.csv\")"
   ]
  },
  {
   "cell_type": "code",
   "execution_count": 6,
   "metadata": {},
   "outputs": [],
   "source": [
    "agent = create_pandas_dataframe_agent(OpenAI(temperature=0), df, verbose=True)\n",
    "\n",
    "# agent = create_pandas_dataframe_agent(\n",
    "#     ChatOpenAI(temperature=0, model=\"gpt-3.5-turbo-0613\"),\n",
    "#     df,\n",
    "#     verbose=True,\n",
    "#     agent_type=AgentType.OPENAI_FUNCTIONS,\n",
    "# )"
   ]
  },
  {
   "cell_type": "code",
   "execution_count": 7,
   "metadata": {},
   "outputs": [
    {
     "name": "stdout",
     "output_type": "stream",
     "text": [
      "\n",
      "\n",
      "\u001b[1m> Entering new  chain...\u001b[0m\n",
      "\u001b[32;1m\u001b[1;3mThought: I need to find out how many rows are in the dataframe\n",
      "Action: python_repl_ast\n",
      "Action Input: df.shape[0]\u001b[0m\n",
      "Observation: \u001b[36;1m\u001b[1;3m36\u001b[0m\n",
      "Thought:\u001b[32;1m\u001b[1;3m I now know the final answer\n",
      "Final Answer: There are 36 rows in the dataframe.\u001b[0m\n",
      "\n",
      "\u001b[1m> Finished chain.\u001b[0m\n"
     ]
    },
    {
     "data": {
      "text/plain": [
       "'There are 36 rows in the dataframe.'"
      ]
     },
     "execution_count": 7,
     "metadata": {},
     "output_type": "execute_result"
    }
   ],
   "source": [
    "agent.run(\"how many rows are there?\")"
   ]
  },
  {
   "cell_type": "code",
   "execution_count": 8,
   "metadata": {},
   "outputs": [
    {
     "name": "stdout",
     "output_type": "stream",
     "text": [
      "\n",
      "\n",
      "\u001b[1m> Entering new  chain...\u001b[0m\n",
      "\u001b[32;1m\u001b[1;3mThought: I should look at the data and see what it is telling me\n",
      "Action: python_repl_ast\n",
      "Action Input: print(df.head())\u001b[0m\n",
      "Observation: \u001b[36;1m\u001b[1;3m          Product  Total SOH Total BestSeller SOH Total NonBestseller SOH  \\\n",
      "0           Jeans    265,057              223,082                  41,975   \n",
      "1          Chinos    116,449               88,367                  28,082   \n",
      "2  Knitted Jogger     34,498               23,648                  10,850   \n",
      "3    woven Shorts     58,752               46,237                  12,515   \n",
      "4           Cargo     21,025               17,729                   3,296   \n",
      "\n",
      "   Instock%   Warehouse SOH    Ajio SOR SOH  Flipkart SOR SOH  \\\n",
      "0        98%          63,825        139,051            35,250   \n",
      "1        97%          36,458         50,690            14,314   \n",
      "2        92%           8,365         20,134               140   \n",
      "3        93%          34,910         13,647             7,267   \n",
      "4        94%           6,652          3,251             4,325   \n",
      "\n",
      "   Fashion Factory SOH   Intransit    Total WIP  3 month avg sales  \\\n",
      "0               26,931            0       76,730            78,062   \n",
      "1               14,987            0       87,614            22,389   \n",
      "2                5,859            0          921             7,818   \n",
      "3                2,928            0       53,598            17,710   \n",
      "4                6,797            0       71,377            16,676   \n",
      "\n",
      "   Gross sold Achievement%  Projected sales  Active Cover  \n",
      "0      64,212          59%          119,276           3.4  \n",
      "1      25,419          44%           52,402           5.2  \n",
      "2       4,700          27%           15,524           4.4  \n",
      "3      19,785          87%           26,438           3.3  \n",
      "4      18,880         137%            9,461           1.3  \n",
      "\u001b[0m\n",
      "Thought:\u001b[32;1m\u001b[1;3m I can see the data is about product sales\n",
      "Final Answer: The data is about product sales, including total stock on hand, stock on hand in warehouses, stock on order from suppliers, stock in transit, total work in progress, 3 month average sales, gross sold, achievement percentage, projected sales, and active cover.\u001b[0m\n",
      "\n",
      "\u001b[1m> Finished chain.\u001b[0m\n"
     ]
    },
    {
     "data": {
      "text/plain": [
       "'The data is about product sales, including total stock on hand, stock on hand in warehouses, stock on order from suppliers, stock in transit, total work in progress, 3 month average sales, gross sold, achievement percentage, projected sales, and active cover.'"
      ]
     },
     "execution_count": 8,
     "metadata": {},
     "output_type": "execute_result"
    }
   ],
   "source": [
    "agent.run(\"describe the data\")"
   ]
  },
  {
   "cell_type": "code",
   "execution_count": 9,
   "metadata": {},
   "outputs": [
    {
     "name": "stdout",
     "output_type": "stream",
     "text": [
      "\n",
      "\n",
      "\u001b[1m> Entering new  chain...\u001b[0m\n",
      "\u001b[32;1m\u001b[1;3mThought: I should look at the data to get an understanding of what it contains\n",
      "Action: python_repl_ast\n",
      "Action Input: df.describe()\u001b[0m\n",
      "Observation: \u001b[36;1m\u001b[1;3m        Intransit   Active Cover\n",
      "count         36.0     36.000000\n",
      "mean           0.0      8.219444\n",
      "std            0.0      9.385759\n",
      "min            0.0      0.000000\n",
      "25%            0.0      2.775000\n",
      "50%            0.0      4.550000\n",
      "75%            0.0     10.675000\n",
      "max            0.0     44.700000\u001b[0m\n",
      "Thought:\u001b[32;1m\u001b[1;3m I should look at the data types\n",
      "Action: python_repl_ast\n",
      "Action Input: df.dtypes\u001b[0m\n",
      "Observation: \u001b[36;1m\u001b[1;3mProduct                     object\n",
      " Total SOH                  object\n",
      "Total BestSeller SOH        object\n",
      "Total NonBestseller SOH     object\n",
      " Instock%                   object\n",
      " Warehouse SOH              object\n",
      "  Ajio SOR SOH              object\n",
      " Flipkart SOR SOH           object\n",
      " Fashion Factory SOH        object\n",
      " Intransit                   int64\n",
      "  Total WIP                 object\n",
      "3 month avg sales           object\n",
      " Gross sold                 object\n",
      "Achievement%                object\n",
      " Projected sales            object\n",
      "Active Cover               float64\n",
      "dtype: object\u001b[0m\n",
      "Thought:\u001b[32;1m\u001b[1;3m I should look at the correlation between the columns\n",
      "Action: python_repl_ast\n",
      "Action Input: df.corr()\u001b[0m\n",
      "Observation: \u001b[36;1m\u001b[1;3mValueError: could not convert string to float: 'Jeans'\u001b[0m\n",
      "Thought:\u001b[32;1m\u001b[1;3m I should convert the columns to numeric\n",
      "Action: python_repl_ast\n",
      "Action Input: df = df.apply(pd.to_numeric, errors='coerce')\u001b[0m\n",
      "Observation: \u001b[36;1m\u001b[1;3mNameError: name 'pd' is not defined\u001b[0m\n",
      "Thought:\u001b[32;1m\u001b[1;3m I should import pandas\n",
      "Action: python_repl_ast\n",
      "Action Input: import pandas as pd\u001b[0m\n",
      "Observation: \u001b[36;1m\u001b[1;3m\u001b[0m\n",
      "Thought:\u001b[32;1m\u001b[1;3m I should convert the columns to numeric\n",
      "Action: python_repl_ast\n",
      "Action Input: df = df.apply(pd.to_numeric, errors='coerce')\u001b[0m\n",
      "Observation: \u001b[36;1m\u001b[1;3m\u001b[0m\n",
      "Thought:\u001b[32;1m\u001b[1;3m I should look at the correlation between the columns\n",
      "Action: python_repl_ast\n",
      "Action Input: df.corr()\u001b[0m\n",
      "Observation: \u001b[36;1m\u001b[1;3m                         Product   Total SOH  Total BestSeller SOH  \\\n",
      "Product                      NaN         NaN                   NaN   \n",
      " Total SOH                   NaN    1.000000              0.448994   \n",
      "Total BestSeller SOH         NaN    0.448994              1.000000   \n",
      "Total NonBestseller SOH      NaN    0.996726              0.375281   \n",
      " Instock%                    NaN         NaN                   NaN   \n",
      " Warehouse SOH               NaN    0.942844              0.507403   \n",
      "  Ajio SOR SOH               NaN    0.533421              0.822794   \n",
      " Flipkart SOR SOH            NaN   -0.262751              0.250750   \n",
      " Fashion Factory SOH         NaN    0.448994              0.394311   \n",
      " Intransit                   NaN         NaN                   NaN   \n",
      "  Total WIP                  NaN         NaN              0.188203   \n",
      "3 month avg sales            NaN    0.813937              0.362064   \n",
      " Gross sold                  NaN    0.583330              0.821770   \n",
      "Achievement%                 NaN         NaN                   NaN   \n",
      " Projected sales             NaN    0.977422              0.508525   \n",
      "Active Cover                 NaN    0.286313              0.135467   \n",
      "\n",
      "                         Total NonBestseller SOH   Instock%    Warehouse SOH   \\\n",
      "Product                                      NaN         NaN              NaN   \n",
      " Total SOH                              0.996726         NaN         0.942844   \n",
      "Total BestSeller SOH                    0.375281         NaN         0.507403   \n",
      "Total NonBestseller SOH                 1.000000         NaN         0.964974   \n",
      " Instock%                                    NaN         NaN              NaN   \n",
      " Warehouse SOH                          0.964974         NaN         1.000000   \n",
      "  Ajio SOR SOH                          0.263101         NaN         0.683911   \n",
      " Flipkart SOR SOH                       0.101745         NaN         0.509508   \n",
      " Fashion Factory SOH                    0.358117         NaN         0.071740   \n",
      " Intransit                                   NaN         NaN              NaN   \n",
      "  Total WIP                            -0.292185         NaN              NaN   \n",
      "3 month avg sales                       0.628606         NaN         0.689296   \n",
      " Gross sold                            -0.146111         NaN         0.558543   \n",
      "Achievement%                                 NaN         NaN              NaN   \n",
      " Projected sales                        0.205525         NaN         0.899534   \n",
      "Active Cover                            0.344409         NaN         0.333758   \n",
      "\n",
      "                           Ajio SOR SOH   Flipkart SOR SOH  \\\n",
      "Product                             NaN                NaN   \n",
      " Total SOH                     0.533421          -0.262751   \n",
      "Total BestSeller SOH           0.822794           0.250750   \n",
      "Total NonBestseller SOH        0.263101           0.101745   \n",
      " Instock%                           NaN                NaN   \n",
      " Warehouse SOH                 0.683911           0.509508   \n",
      "  Ajio SOR SOH                 1.000000           0.016650   \n",
      " Flipkart SOR SOH              0.016650           1.000000   \n",
      " Fashion Factory SOH           0.109597           0.226884   \n",
      " Intransit                          NaN                NaN   \n",
      "  Total WIP                    0.415218           0.052081   \n",
      "3 month avg sales              0.603306           0.466135   \n",
      " Gross sold                    0.660015           0.241339   \n",
      "Achievement%                        NaN                NaN   \n",
      " Projected sales               0.783412           0.327066   \n",
      "Active Cover                   0.089999           0.068682   \n",
      "\n",
      "                          Fashion Factory SOH   Intransit     Total WIP   \\\n",
      "Product                                   NaN          NaN           NaN   \n",
      " Total SOH                           0.448994          NaN           NaN   \n",
      "Total BestSeller SOH                 0.394311          NaN      0.188203   \n",
      "Total NonBestseller SOH              0.358117          NaN     -0.292185   \n",
      " Instock%                                 NaN          NaN           NaN   \n",
      " Warehouse SOH                       0.071740          NaN           NaN   \n",
      "  Ajio SOR SOH                       0.109597          NaN      0.415218   \n",
      " Flipkart SOR SOH                    0.226884          NaN      0.052081   \n",
      " Fashion Factory SOH                 1.000000          NaN     -0.172182   \n",
      " Intransit                                NaN          NaN           NaN   \n",
      "  Total WIP                         -0.172182          NaN      1.000000   \n",
      "3 month avg sales                    0.414777          NaN      0.347122   \n",
      " Gross sold                          0.101123          NaN      0.268146   \n",
      "Achievement%                              NaN          NaN           NaN   \n",
      " Projected sales                     0.104871          NaN      0.796039   \n",
      "Active Cover                         0.174943          NaN      0.183599   \n",
      "\n",
      "                         3 month avg sales   Gross sold  Achievement%  \\\n",
      "Product                                NaN          NaN           NaN   \n",
      " Total SOH                        0.813937     0.583330           NaN   \n",
      "Total BestSeller SOH              0.362064     0.821770           NaN   \n",
      "Total NonBestseller SOH           0.628606    -0.146111           NaN   \n",
      " Instock%                              NaN          NaN           NaN   \n",
      " Warehouse SOH                    0.689296     0.558543           NaN   \n",
      "  Ajio SOR SOH                    0.603306     0.660015           NaN   \n",
      " Flipkart SOR SOH                 0.466135     0.241339           NaN   \n",
      " Fashion Factory SOH              0.414777     0.101123           NaN   \n",
      " Intransit                             NaN          NaN           NaN   \n",
      "  Total WIP                       0.347122     0.268146           NaN   \n",
      "3 month avg sales                 1.000000     0.750970           NaN   \n",
      " Gross sold                       0.750970     1.000000           NaN   \n",
      "Achievement%                           NaN          NaN           NaN   \n",
      " Projected sales                  0.766363     0.868071           NaN   \n",
      "Active Cover                     -0.095992    -0.053683           NaN   \n",
      "\n",
      "                          Projected sales  Active Cover  \n",
      "Product                               NaN           NaN  \n",
      " Total SOH                       0.977422      0.286313  \n",
      "Total BestSeller SOH             0.508525      0.135467  \n",
      "Total NonBestseller SOH          0.205525      0.344409  \n",
      " Instock%                             NaN           NaN  \n",
      " Warehouse SOH                   0.899534      0.333758  \n",
      "  Ajio SOR SOH                   0.783412      0.089999  \n",
      " Flipkart SOR SOH                0.327066      0.068682  \n",
      " Fashion Factory SOH             0.104871      0.174943  \n",
      " Intransit                            NaN           NaN  \n",
      "  Total WIP                      0.796039      0.183599  \n",
      "3 month avg sales                0.766363     -0.095992  \n",
      " Gross sold                      0.868071     -0.053683  \n",
      "Achievement%                          NaN           NaN  \n",
      " Projected sales                 1.000000     -0.029098  \n",
      "Active Cover                    -0.029098      1.000000  \u001b[0m\n",
      "Thought:\u001b[32;1m\u001b[1;3m I now know the final answer\n",
      "Final Answer: The correlation between the columns in the dataframe is as follows: Total SOH and Total BestSeller SOH have a correlation of 0.448994, Total NonBestseller SOH and Warehouse SOH have a correlation of 0.964974, Ajio SOR SOH and Flipkart SOR SOH have a correlation of 0.016650, and Projected sales and Active Cover have a correlation of -0.029098.\u001b[0m\n",
      "\n",
      "\u001b[1m> Finished chain.\u001b[0m\n"
     ]
    },
    {
     "data": {
      "text/plain": [
       "'The correlation between the columns in the dataframe is as follows: Total SOH and Total BestSeller SOH have a correlation of 0.448994, Total NonBestseller SOH and Warehouse SOH have a correlation of 0.964974, Ajio SOR SOH and Flipkart SOR SOH have a correlation of 0.016650, and Projected sales and Active Cover have a correlation of -0.029098.'"
      ]
     },
     "execution_count": 9,
     "metadata": {},
     "output_type": "execute_result"
    }
   ],
   "source": [
    "agent.run(\"do EDA on the data\")"
   ]
  },
  {
   "cell_type": "code",
   "execution_count": null,
   "metadata": {},
   "outputs": [],
   "source": []
  }
 ],
 "metadata": {
  "kernelspec": {
   "display_name": "emb",
   "language": "python",
   "name": "python3"
  },
  "language_info": {
   "codemirror_mode": {
    "name": "ipython",
    "version": 3
   },
   "file_extension": ".py",
   "mimetype": "text/x-python",
   "name": "python",
   "nbconvert_exporter": "python",
   "pygments_lexer": "ipython3",
   "version": "3.11.3"
  },
  "orig_nbformat": 4
 },
 "nbformat": 4,
 "nbformat_minor": 2
}
