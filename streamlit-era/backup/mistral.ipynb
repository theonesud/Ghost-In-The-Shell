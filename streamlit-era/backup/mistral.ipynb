{
 "cells": [
  {
   "cell_type": "code",
   "execution_count": null,
   "metadata": {},
   "outputs": [],
   "source": [
    "%conda deactivate && conda remove -n cli --all -y && conda create -n cli -y python=3.8 && conda activate cli\n",
    "\n",
    "%conda install pytorch pytorch-cuda=11.8 -c pytorch -c nvidia\n",
    "\n",
    "%pip install optimum\n",
    "\n",
    "%pip install git+https://github.com/huggingface/transformers.git@72958fcd3c98a7afdc61f953aa58c544ebda2f79\n",
    "\n",
    "%pip install auto-gptq --extra-index-url https://huggingface.github.io/autogptq-index/whl/cu118/\n",
    "\n",
    "# pip uninstall -y auto-gptq\n",
    "# git clone https://github.com/PanQiWei/AutoGPTQ\n",
    "# cd AutoGPTQ\n",
    "# git checkout v0.4.2\n",
    "# pip install .\n",
    "\n",
    "# pip install ipykernel"
   ]
  },
  {
   "cell_type": "code",
   "execution_count": 1,
   "metadata": {},
   "outputs": [
    {
     "name": "stderr",
     "output_type": "stream",
     "text": [
      "/home/sud/miniconda3/envs/cli/lib/python3.8/site-packages/tqdm/auto.py:21: TqdmWarning: IProgress not found. Please update jupyter and ipywidgets. See https://ipywidgets.readthedocs.io/en/stable/user_install.html\n",
      "  from .autonotebook import tqdm as notebook_tqdm\n"
     ]
    }
   ],
   "source": [
    "import os\n",
    "import time\n",
    "\n",
    "from transformers import AutoModelForCausalLM, AutoTokenizer, pipeline"
   ]
  },
  {
   "cell_type": "code",
   "execution_count": 18,
   "metadata": {},
   "outputs": [
    {
     "name": "stderr",
     "output_type": "stream",
     "text": [
      "Special tokens have been added in the vocabulary, make sure the associated word embeddings are fine-tuned or trained.\n"
     ]
    }
   ],
   "source": [
    "os.makedirs(\"models\", exist_ok=True)\n",
    "model_name = \"TheBloke/Mistral-7B-Instruct-v0.1-GPTQ\"\n",
    "tokenizer = AutoTokenizer.from_pretrained(model_name, use_fast=True)\n",
    "model = AutoModelForCausalLM.from_pretrained(\n",
    "    model_name,\n",
    "    device_map=\"auto\",\n",
    "    # device_map=\"cuda\",\n",
    "    trust_remote_code=False,\n",
    "    revision=\"main\",\n",
    "    cache_dir=\"./models\",\n",
    ")"
   ]
  },
  {
   "cell_type": "code",
   "execution_count": 21,
   "metadata": {},
   "outputs": [],
   "source": [
    "def run(prompt):\n",
    "    prompt = f\"\"\"<s>[INST] {prompt} [/INST]\n",
    "\"\"\"\n",
    "    pipe = pipeline(\n",
    "        \"text-generation\",\n",
    "        model=model,\n",
    "        tokenizer=tokenizer,\n",
    "        # max_new_tokens=512,\n",
    "        # do_sample=True,\n",
    "        # temperature=0.1,\n",
    "        top_p=0.95,\n",
    "        # top_k=40,\n",
    "        # repetition_penalty=1.1,\n",
    "    )\n",
    "    resp = pipe(prompt)[0][\"generated_text\"]\n",
    "    resp = resp.split(\"[/INST]\")[1]\n",
    "    return resp"
   ]
  },
  {
   "cell_type": "code",
   "execution_count": 23,
   "metadata": {},
   "outputs": [
    {
     "name": "stdout",
     "output_type": "stream",
     "text": [
      "\n",
      "Hi! How can I help you today?\n"
     ]
    }
   ],
   "source": [
    "print(run(\"Hi\"))"
   ]
  },
  {
   "cell_type": "code",
   "execution_count": null,
   "metadata": {},
   "outputs": [],
   "source": []
  }
 ],
 "metadata": {
  "kernelspec": {
   "display_name": "cli",
   "language": "python",
   "name": "python3"
  },
  "language_info": {
   "codemirror_mode": {
    "name": "ipython",
    "version": 3
   },
   "file_extension": ".py",
   "mimetype": "text/x-python",
   "name": "python",
   "nbconvert_exporter": "python",
   "pygments_lexer": "ipython3",
   "version": "3.12.0"
  }
 },
 "nbformat": 4,
 "nbformat_minor": 2
}
