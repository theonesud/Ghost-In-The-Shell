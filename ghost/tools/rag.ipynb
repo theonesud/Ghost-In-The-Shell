{
 "cells": [
  {
   "cell_type": "code",
   "execution_count": null,
   "metadata": {},
   "outputs": [],
   "source": [
    "# %pip install weaviate-client llama-index nbconvert protobuf==3.20 python-dotenv"
   ]
  },
  {
   "cell_type": "code",
   "execution_count": 1,
   "metadata": {},
   "outputs": [
    {
     "name": "stdout",
     "output_type": "stream",
     "text": [
      "Started /home/sud/.cache/weaviate-embedded: process ID 2379\n"
     ]
    },
    {
     "name": "stderr",
     "output_type": "stream",
     "text": [
      "{\"action\":\"startup\",\"default_vectorizer_module\":\"none\",\"level\":\"info\",\"msg\":\"the default vectorizer modules is set to \\\"none\\\", as a result all new schema classes without an explicit vectorizer setting, will use this vectorizer\",\"time\":\"2023-07-18T22:03:42+05:30\"}\n",
      "{\"action\":\"startup\",\"auto_schema_enabled\":true,\"level\":\"info\",\"msg\":\"auto schema enabled setting is set to \\\"true\\\"\",\"time\":\"2023-07-18T22:03:42+05:30\"}\n",
      "{\"level\":\"warning\",\"msg\":\"Multiple vector spaces are present, GraphQL Explore and REST API list objects endpoint module include params has been disabled as a result.\",\"time\":\"2023-07-18T22:03:42+05:30\"}\n",
      "{\"action\":\"grpc_startup\",\"level\":\"info\",\"msg\":\"grpc server listening at [::]:50051\",\"time\":\"2023-07-18T22:03:42+05:30\"}\n",
      "{\"action\":\"restapi_management\",\"level\":\"info\",\"msg\":\"Serving weaviate at http://127.0.0.1:6666\",\"time\":\"2023-07-18T22:03:42+05:30\"}\n"
     ]
    }
   ],
   "source": [
    "from dotenv import load_dotenv\n",
    "import weaviate\n",
    "from weaviate.embedded import EmbeddedOptions\n",
    "\n",
    "load_dotenv('../.env')\n",
    "client = weaviate.Client(\n",
    "  embedded_options=EmbeddedOptions(persistence_data_path='../data/weaviate')\n",
    ")"
   ]
  },
  {
   "cell_type": "code",
   "execution_count": 2,
   "metadata": {},
   "outputs": [],
   "source": [
    "from llama_index.vector_stores import WeaviateVectorStore\n",
    "from llama_index import VectorStoreIndex\n",
    "from llama_index.storage.storage_context import StorageContext\n",
    "from llama_index.readers.file.base import SimpleDirectoryReader\n",
    "\n",
    "input_files = [\n",
    "    '../data/raw/crafted/backend/main.py',\n",
    "    '../data/raw/crafted/backend/config.py',\n",
    "]\n",
    "input_dir = [\n",
    "    '../data/raw/crafted/backend/model/',\n",
    "    ]\n",
    "\n",
    "documents = SimpleDirectoryReader(input_dir='../data/raw/crafted/backend/api', recursive=True).load_data()"
   ]
  },
  {
   "cell_type": "code",
   "execution_count": 3,
   "metadata": {},
   "outputs": [
    {
     "name": "stderr",
     "output_type": "stream",
     "text": [
      "{\"action\":\"hnsw_vector_cache_prefill\",\"count\":1000,\"index_id\":\"llamaindex_96ae18b8dd174e49b88cc2892c64a3ee_qBgT4Y46U30r\",\"level\":\"info\",\"limit\":1000000000000,\"msg\":\"prefilled vector cache\",\"time\":\"2023-07-18T22:03:47+05:30\",\"took\":71942}\n"
     ]
    }
   ],
   "source": [
    "index = VectorStoreIndex.from_documents(documents, storage_context=StorageContext.from_defaults(vector_store=WeaviateVectorStore(weaviate_client=client)))\n",
    "query_engine = index.as_query_engine()"
   ]
  },
  {
   "cell_type": "code",
   "execution_count": 10,
   "metadata": {},
   "outputs": [
    {
     "name": "stdout",
     "output_type": "stream",
     "text": [
      "\n",
      "Endpoint 1: /sales\n",
      "Method: POST\n",
      "\n",
      "Endpoint 2: /search\n",
      "Method: POST\n",
      "----------------------\n",
      "> Source (Doc id: d603de1e-ffe5-4fc7-ab63-d9c812d5eee4): import json\n",
      "from datetime import date, datetime, timedelta\n",
      "import calendar\n",
      "import pandas as pd\n",
      "fr...\n",
      "\n",
      "> Source (Doc id: 24953d61-b0c0-46a0-a8a3-8f1e1d1998d9): from fastapi import APIRouter, Depends, HTTPException\n",
      "from sqlalchemy import select\n",
      "\n",
      "from api.hel...\n"
     ]
    }
   ],
   "source": [
    "response = query_engine.query(\"list down all the endpoints and their methods\")\n",
    "print(str(response))\n",
    "print('----------------------')\n",
    "print(response.get_formatted_sources())"
   ]
  },
  {
   "cell_type": "markdown",
   "metadata": {},
   "source": [
    "https://gpt-index.readthedocs.io/en/latest/examples/metadata_extraction/MetadataExtractionSEC.html\n",
    "https://gpt-index.readthedocs.io/en/latest/examples/index_structs/knowledge_graph/KnowledgeGraphIndex_vs_VectorStoreIndex_vs_CustomIndex_combined.html\n",
    "https://gpt-index.readthedocs.io/en/latest/examples/query_engine/knowledge_graph_query_engine.html\n",
    "https://gpt-index.readthedocs.io/en/latest/examples/vector_stores/WeaviateIndexDemo-Hybrid.html\n",
    "https://github.com/weaviate/recipes/tree/main/integrations/llamaindex/simple-query-engine\n",
    "https://gpt-index.readthedocs.io/en/latest/examples/composable_indices/ComposableIndices.html\n",
    "https://gpt-index.readthedocs.io/en/latest/api_reference/service_context/embeddings.html\n",
    "https://gpt-index.readthedocs.io/en/latest/examples/composable_indices/ComposableIndices-Weaviate.html#define-graph"
   ]
  },
  {
   "cell_type": "markdown",
   "metadata": {},
   "source": []
  }
 ],
 "metadata": {
  "kernelspec": {
   "display_name": "crafted",
   "language": "python",
   "name": "python3"
  },
  "language_info": {
   "codemirror_mode": {
    "name": "ipython",
    "version": 3
   },
   "file_extension": ".py",
   "mimetype": "text/x-python",
   "name": "python",
   "nbconvert_exporter": "python",
   "pygments_lexer": "ipython3",
   "version": "3.11.3"
  },
  "orig_nbformat": 4
 },
 "nbformat": 4,
 "nbformat_minor": 2
}
